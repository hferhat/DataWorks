{
 "cells": [
  {
   "cell_type": "code",
   "execution_count": 1,
   "id": "ca664986-9154-432a-8dc1-858f8269fd53",
   "metadata": {},
   "outputs": [
    {
     "name": "stdout",
     "output_type": "stream",
     "text": [
      "On branch main\n",
      "Your branch is up to date with 'origin/main'.\n",
      "\n",
      "nothing to commit, working tree clean\n"
     ]
    }
   ],
   "source": [
    "!git status #bunu ilk açtığında çalıştıracaksın bir sefer"
   ]
  },
  {
   "cell_type": "code",
   "execution_count": 2,
   "id": "4d4117a0-6b55-4313-934e-66c968eb0fe2",
   "metadata": {},
   "outputs": [
    {
     "name": "stdout",
     "output_type": "stream",
     "text": [
      "Already up to date.\n"
     ]
    }
   ],
   "source": [
    "!git pull"
   ]
  },
  {
   "cell_type": "code",
   "execution_count": 3,
   "id": "99f9c4d1-107f-447c-a8c8-8c768e3b1863",
   "metadata": {},
   "outputs": [
    {
     "name": "stderr",
     "output_type": "stream",
     "text": [
      "warning: in the working copy of 'StockMarketAnalysis.ipynb', LF will be replaced by CRLF the next time Git touches it\n"
     ]
    }
   ],
   "source": [
    "!git add ."
   ]
  },
  {
   "cell_type": "code",
   "execution_count": 4,
   "id": "722c012f-23ca-438b-8497-8334f6559784",
   "metadata": {},
   "outputs": [
    {
     "name": "stdout",
     "output_type": "stream",
     "text": [
      "[main 0c90062] GitHubCommit\n",
      " Committer: Ferhat HanÃ§er (DoguÅŸ Hospitality Ferhat.hancer Retail) <ferhat.hancer@dogushrg.com>\n",
      "Your name and email address were configured automatically based\n",
      "on your username and hostname. Please check that they are accurate.\n",
      "You can suppress this message by setting them explicitly:\n",
      "\n",
      "    git config --global user.name \"Your Name\"\n",
      "    git config --global user.email you@example.com\n",
      "\n",
      "After doing this, you may fix the identity used for this commit with:\n",
      "\n",
      "    git commit --amend --reset-author\n",
      "\n",
      " 1 file changed, 144 insertions(+), 29 deletions(-)\n"
     ]
    }
   ],
   "source": [
    "!git commit -m \"GitHubCommit\""
   ]
  },
  {
   "cell_type": "code",
   "execution_count": 5,
   "id": "01d72020-5f97-4e90-a619-ce10d2b59292",
   "metadata": {},
   "outputs": [
    {
     "name": "stderr",
     "output_type": "stream",
     "text": [
      "To https://github.com/hferhat/DataWorks.git\n",
      "   9fa52e9..0c90062  main -> main\n"
     ]
    }
   ],
   "source": [
    "!git push"
   ]
  },
  {
   "cell_type": "markdown",
   "id": "d915698a-fcde-4159-a0f7-c8e370f90922",
   "metadata": {},
   "source": [
    "https://nbviewer.org/github/jmportilla/Udemy-notes/blob/master/Data%20Project%20-%20Stock%20Market%20Analysis.ipynb"
   ]
  },
  {
   "cell_type": "code",
   "execution_count": 6,
   "id": "4014b2d6-271e-4e71-a27f-0bc8492141d8",
   "metadata": {},
   "outputs": [],
   "source": [
    "import pandas as pd\n",
    "from pandas import Series,DataFrame\n",
    "import numpy as np"
   ]
  },
  {
   "cell_type": "code",
   "execution_count": 7,
   "id": "c033ea0d-2745-4278-bdfa-12522ad7a6e1",
   "metadata": {},
   "outputs": [],
   "source": [
    "import matplotlib.pyplot as plt\n",
    "import seaborn as sns\n",
    "sns.set_style('whitegrid')\n",
    "%matplotlib inline"
   ]
  },
  {
   "cell_type": "code",
   "execution_count": 8,
   "id": "804187f3-7b60-4d86-983e-e6db526dcf7b",
   "metadata": {},
   "outputs": [],
   "source": [
    "#pip install pandas_datareader"
   ]
  },
  {
   "cell_type": "code",
   "execution_count": 9,
   "id": "1735841c-4af1-4db8-a816-cec9d9c4f672",
   "metadata": {},
   "outputs": [],
   "source": [
    "import pandas_datareader.data as DataReader"
   ]
  },
  {
   "cell_type": "code",
   "execution_count": 10,
   "id": "f772ee4d-07b8-42a4-971a-d0c3d09d1c9c",
   "metadata": {},
   "outputs": [],
   "source": [
    "from datetime import datetime"
   ]
  },
  {
   "cell_type": "code",
   "execution_count": 11,
   "id": "37fed6b7-2242-4aa2-8fea-59d337e2da7d",
   "metadata": {},
   "outputs": [],
   "source": [
    "from __future__ import division"
   ]
  },
  {
   "cell_type": "code",
   "execution_count": 27,
   "id": "98158a2e-deed-494f-a21c-5e2d163436ae",
   "metadata": {},
   "outputs": [],
   "source": [
    "tech_list = ['AAPL','GOOG','MSFT','AMZN']"
   ]
  },
  {
   "cell_type": "code",
   "execution_count": 28,
   "id": "a05875fb-9947-4bb9-8507-75402aaa67b9",
   "metadata": {},
   "outputs": [],
   "source": [
    "end = datetime.now()"
   ]
  },
  {
   "cell_type": "code",
   "execution_count": 29,
   "id": "7637ec27-4d69-473f-9cac-e9b4858577ab",
   "metadata": {},
   "outputs": [
    {
     "data": {
      "text/plain": [
       "datetime.datetime(2024, 7, 2, 0, 54, 16, 970510)"
      ]
     },
     "execution_count": 29,
     "metadata": {},
     "output_type": "execute_result"
    }
   ],
   "source": [
    "end"
   ]
  },
  {
   "cell_type": "code",
   "execution_count": 30,
   "id": "b281182e-aca1-43aa-a92d-692ede39aa03",
   "metadata": {},
   "outputs": [],
   "source": [
    "start = datetime(end.year - 1,end.month,end.day)"
   ]
  },
  {
   "cell_type": "code",
   "execution_count": 35,
   "id": "fcd58778-8f59-4369-9be7-d002fc14e112",
   "metadata": {},
   "outputs": [
    {
     "ename": "TypeError",
     "evalue": "'module' object is not callable",
     "output_type": "error",
     "traceback": [
      "\u001b[1;31m---------------------------------------------------------------------------\u001b[0m",
      "\u001b[1;31mTypeError\u001b[0m                                 Traceback (most recent call last)",
      "Cell \u001b[1;32mIn[35], line 2\u001b[0m\n\u001b[0;32m      1\u001b[0m \u001b[38;5;28;01mfor\u001b[39;00m stock \u001b[38;5;129;01min\u001b[39;00m tech_list:\n\u001b[1;32m----> 2\u001b[0m     \u001b[38;5;28mglobals\u001b[39m()[stock] \u001b[38;5;241m=\u001b[39m DataReader(stock,\u001b[38;5;124m'\u001b[39m\u001b[38;5;124myahoo\u001b[39m\u001b[38;5;124m'\u001b[39m,start,end)\n",
      "\u001b[1;31mTypeError\u001b[0m: 'module' object is not callable"
     ]
    }
   ],
   "source": [
    "for stock in tech_list:\n",
    "    globals()[stock] = DataReader(stock,'yahoo',start,end)"
   ]
  },
  {
   "cell_type": "code",
   "execution_count": 24,
   "id": "a5024353-da9b-4873-b3a1-1cc24c70766b",
   "metadata": {},
   "outputs": [
    {
     "name": "stdout",
     "output_type": "stream",
     "text": [
      "hhhh\n"
     ]
    }
   ],
   "source": [
    "var_name = \"gggg\"\n",
    "globals()[var_name] = 'hhhh'\n",
    "print(gggg)  # Outputs: 10\n"
   ]
  },
  {
   "cell_type": "code",
   "execution_count": 32,
   "id": "14889816-8376-42b3-832c-85d8e59d817e",
   "metadata": {},
   "outputs": [
    {
     "name": "stdout",
     "output_type": "stream",
     "text": [
      "25\n"
     ]
    }
   ],
   "source": [
    "def add_dynamic_function():\n",
    "    globals()['dynamic_func'] = lambda x: x * x\n",
    "\n",
    "add_dynamic_function()\n",
    "print(dynamic_func(5))  # Outputs: 25"
   ]
  },
  {
   "cell_type": "code",
   "execution_count": null,
   "id": "5051024d-8ddb-41f3-9aa6-fa80002d0d10",
   "metadata": {},
   "outputs": [],
   "source": []
  }
 ],
 "metadata": {
  "kernelspec": {
   "display_name": "Python 3 (ipykernel)",
   "language": "python",
   "name": "python3"
  },
  "language_info": {
   "codemirror_mode": {
    "name": "ipython",
    "version": 3
   },
   "file_extension": ".py",
   "mimetype": "text/x-python",
   "name": "python",
   "nbconvert_exporter": "python",
   "pygments_lexer": "ipython3",
   "version": "3.11.7"
  }
 },
 "nbformat": 4,
 "nbformat_minor": 5
}
