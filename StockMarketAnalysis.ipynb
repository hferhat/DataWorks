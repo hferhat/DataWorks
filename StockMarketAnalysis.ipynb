{
 "cells": [
  {
   "cell_type": "code",
   "execution_count": 1,
   "id": "ca664986-9154-432a-8dc1-858f8269fd53",
   "metadata": {},
   "outputs": [
    {
     "name": "stdout",
     "output_type": "stream",
     "text": [
      "On branch main\n",
      "Your branch is up to date with 'origin/main'.\n",
      "\n",
      "nothing to commit, working tree clean\n"
     ]
    }
   ],
   "source": [
    "!git status #bunu ilk açtığında çalıştıracaksın bir sefer"
   ]
  },
  {
   "cell_type": "code",
   "execution_count": 2,
   "id": "4d4117a0-6b55-4313-934e-66c968eb0fe2",
   "metadata": {},
   "outputs": [
    {
     "name": "stdout",
     "output_type": "stream",
     "text": [
      "Already up to date.\n"
     ]
    }
   ],
   "source": [
    "!git pull"
   ]
  },
  {
   "cell_type": "code",
   "execution_count": 28,
   "id": "99f9c4d1-107f-447c-a8c8-8c768e3b1863",
   "metadata": {},
   "outputs": [
    {
     "name": "stderr",
     "output_type": "stream",
     "text": [
      "warning: in the working copy of 'StockMarketAnalysis.ipynb', LF will be replaced by CRLF the next time Git touches it\n"
     ]
    }
   ],
   "source": [
    "!git add ."
   ]
  },
  {
   "cell_type": "code",
   "execution_count": 29,
   "id": "722c012f-23ca-438b-8497-8334f6559784",
   "metadata": {},
   "outputs": [
    {
     "name": "stdout",
     "output_type": "stream",
     "text": [
      "[main 7fc9435] GitHubCommit\n",
      " Committer: Ferhat HanÃ§er (DoguÅŸ Hospitality Ferhat.hancer Retail) <ferhat.hancer@dogushrg.com>\n",
      "Your name and email address were configured automatically based\n",
      "on your username and hostname. Please check that they are accurate.\n",
      "You can suppress this message by setting them explicitly:\n",
      "\n",
      "    git config --global user.name \"Your Name\"\n",
      "    git config --global user.email you@example.com\n",
      "\n",
      "After doing this, you may fix the identity used for this commit with:\n",
      "\n",
      "    git commit --amend --reset-author\n",
      "\n",
      " 1 file changed, 319 insertions(+), 16 deletions(-)\n"
     ]
    }
   ],
   "source": [
    "!git commit -m \"GitHubCommit\""
   ]
  },
  {
   "cell_type": "code",
   "execution_count": 30,
   "id": "01d72020-5f97-4e90-a619-ce10d2b59292",
   "metadata": {},
   "outputs": [
    {
     "name": "stderr",
     "output_type": "stream",
     "text": [
      "To https://github.com/hferhat/DataWorks.git\n",
      "   7a4d3a5..7fc9435  main -> main\n"
     ]
    }
   ],
   "source": [
    "!git push"
   ]
  },
  {
   "cell_type": "markdown",
   "id": "d915698a-fcde-4159-a0f7-c8e370f90922",
   "metadata": {},
   "source": [
    "https://nbviewer.org/github/jmportilla/Udemy-notes/blob/master/Data%20Project%20-%20Stock%20Market%20Analysis.ipynb"
   ]
  },
  {
   "cell_type": "code",
   "execution_count": 6,
   "id": "177ecdd7-2dab-4f7b-af03-f4966d4aeb4d",
   "metadata": {},
   "outputs": [
    {
     "data": {
      "text/plain": [
       "'\\nFor those struggling with the pandas_datareader portion - here is what you can try:\\n\\ninstall\\n\\n1. pip install yfinance --upgrade --no-cache-dir\\n\\nthen update\\npip install yfinance --upgrade --no-cache-dir --pre\\n\\n\\n\\nThen try the following importing the new modules: \\n\\nfrom pandas_datareader import data as pdr                #import pandas datareader\\n\\nimport yfinance as yf                                                          # you will need to install it if haven\\'t done it already\\n\\nyf.pdr_override()                                                                  #override the data reader function\\n\\n\\n\\nprices = pdr.get_data_yahoo(\"TSLA\", start=\"2022-12-01\", end=\"2023-02-08\")\\n\\n\\n\\n# This got results for TSLA, and over a different time period, but you can change it to meet the results as indicated - for instance, you can substitute TSLA for [\\'CVX\\',\\'XOM\\',\\'BP\\'] and you\\'re good to go.\\n'"
      ]
     },
     "execution_count": 6,
     "metadata": {},
     "output_type": "execute_result"
    }
   ],
   "source": [
    "#Hata için yapılması gerekenler:\n",
    "\n",
    "'''\n",
    "For those struggling with the pandas_datareader portion - here is what you can try:\n",
    "\n",
    "install\n",
    "\n",
    "1. pip install yfinance --upgrade --no-cache-dir\n",
    "\n",
    "then update\n",
    "pip install yfinance --upgrade --no-cache-dir --pre\n",
    "\n",
    "\n",
    "\n",
    "Then try the following importing the new modules: \n",
    "\n",
    "from pandas_datareader import data as pdr                #import pandas datareader\n",
    "\n",
    "import yfinance as yf                                                          # you will need to install it if haven't done it already\n",
    "\n",
    "yf.pdr_override()                                                                  #override the data reader function\n",
    "\n",
    "\n",
    "\n",
    "prices = pdr.get_data_yahoo(\"TSLA\", start=\"2022-12-01\", end=\"2023-02-08\")\n",
    "\n",
    "\n",
    "\n",
    "# This got results for TSLA, and over a different time period, but you can change it to meet the results as indicated - for instance, you can substitute TSLA for ['CVX','XOM','BP'] and you're good to go.\n",
    "'''"
   ]
  },
  {
   "cell_type": "code",
   "execution_count": 8,
   "id": "71efd9b4-25bc-4b3c-9a77-8712acd473da",
   "metadata": {},
   "outputs": [
    {
     "data": {
      "text/plain": [
       "'\\nSince the pdr_override method is not available in the latest yfinance versions, let\\'s use an alternative approach to ensure compatibility. We\\'ll manually override the pandas_datareader to use yfinance directly.\\n\\nHere\\'s a workaround that achieves similar functionality:\\n\\nCreate a custom function to use yfinance for fetching data.\\nReplace the default pandas_datareader function with this custom function.\\nHere’s the updated code:\\n\\n!pip install yfinance --upgrade --no-cache-dir\\n!pip install pandas_datareader --upgrade --no-cache-dir\\n\\nfrom pandas_datareader import data as pdr\\nimport yfinance as yf  \\nimport pandas as pd\\nimport numpy as np\\nimport matplotlib.pyplot as plt\\nimport seaborn as sns\\nfrom datetime import datetime\\nfrom __future__ import division\\n%matplotlib inline\\n\\n# Define a custom function to fetch data using yfinance\\ndef custom_get_data_yahoo(*args, **kwargs):\\n    return yf.download(*args, **kwargs)\\n\\n# Override pandas_datareader\\'s get_data_yahoo with the custom function\\npdr.get_data_yahoo = custom_get_data_yahoo\\n\\n# Fetch data\\nticker = \\'AAPL\\'\\nstart_date = \\'2020-01-01\\'\\nend_date = \\'2021-01-01\\'\\n\\ntry:\\n    data = pdr.get_data_yahoo(ticker, start=start_date, end=end_date)\\n    print(data.head())\\nexcept Exception as e:\\n    print(f\"An error occurred while fetching data: {e}\")\\n\\n# Proceed with your analysis\\nplt.figure(figsize=(10, 5))\\nplt.plot(data[\\'Close\\'], label=\\'Close Price\\')\\nplt.title(f\\'{ticker} Stock Price\\')\\nplt.xlabel(\\'Date\\')\\nplt.ylabel(\\'Price\\')\\nplt.legend()\\nplt.show()\\n\\n\\nInstalls and upgrades yfinance and pandas_datareader.\\nDefines a custom function custom_get_data_yahoo to use yfinance for data fetching.\\nOverrides the default pandas_datareader.get_data_yahoo function with the custom function.\\nFetches the stock data and proceeds with the analysis.\\nThis approach ensures compatibility with the latest versions of yfinance and pandas_datareader while allowing you to use pdr.get_data_yahoo as intended.\\n\\n'"
      ]
     },
     "execution_count": 8,
     "metadata": {},
     "output_type": "execute_result"
    }
   ],
   "source": [
    "'''\n",
    "Since the pdr_override method is not available in the latest yfinance versions, let's use an alternative approach to ensure compatibility. We'll manually override the pandas_datareader to use yfinance directly.\n",
    "\n",
    "Here's a workaround that achieves similar functionality:\n",
    "\n",
    "Create a custom function to use yfinance for fetching data.\n",
    "Replace the default pandas_datareader function with this custom function.\n",
    "Here’s the updated code:\n",
    "\n",
    "!pip install yfinance --upgrade --no-cache-dir\n",
    "!pip install pandas_datareader --upgrade --no-cache-dir\n",
    "\n",
    "from pandas_datareader import data as pdr\n",
    "import yfinance as yf  \n",
    "import pandas as pd\n",
    "import numpy as np\n",
    "import matplotlib.pyplot as plt\n",
    "import seaborn as sns\n",
    "from datetime import datetime\n",
    "from __future__ import division\n",
    "%matplotlib inline\n",
    "\n",
    "# Define a custom function to fetch data using yfinance\n",
    "def custom_get_data_yahoo(*args, **kwargs):\n",
    "    return yf.download(*args, **kwargs)\n",
    "\n",
    "# Override pandas_datareader's get_data_yahoo with the custom function\n",
    "pdr.get_data_yahoo = custom_get_data_yahoo\n",
    "\n",
    "# Fetch data\n",
    "ticker = 'AAPL'\n",
    "start_date = '2020-01-01'\n",
    "end_date = '2021-01-01'\n",
    "\n",
    "try:\n",
    "    data = pdr.get_data_yahoo(ticker, start=start_date, end=end_date)\n",
    "    print(data.head())\n",
    "except Exception as e:\n",
    "    print(f\"An error occurred while fetching data: {e}\")\n",
    "\n",
    "# Proceed with your analysis\n",
    "plt.figure(figsize=(10, 5))\n",
    "plt.plot(data['Close'], label='Close Price')\n",
    "plt.title(f'{ticker} Stock Price')\n",
    "plt.xlabel('Date')\n",
    "plt.ylabel('Price')\n",
    "plt.legend()\n",
    "plt.show()\n",
    "\n",
    "\n",
    "Installs and upgrades yfinance and pandas_datareader.\n",
    "Defines a custom function custom_get_data_yahoo to use yfinance for data fetching.\n",
    "Overrides the default pandas_datareader.get_data_yahoo function with the custom function.\n",
    "Fetches the stock data and proceeds with the analysis.\n",
    "This approach ensures compatibility with the latest versions of yfinance and pandas_datareader while allowing you to use pdr.get_data_yahoo as intended.\n",
    "\n",
    "'''"
   ]
  },
  {
   "cell_type": "code",
   "execution_count": 7,
   "id": "f046bb9b-08be-46f4-ad44-755b8d03dea5",
   "metadata": {},
   "outputs": [
    {
     "name": "stdout",
     "output_type": "stream",
     "text": [
      "Defaulting to user installation because normal site-packages is not writeable\n",
      "Requirement already satisfied: yfinance in c:\\users\\ferhat.hancer\\appdata\\roaming\\python\\python311\\site-packages (0.2.41)\n",
      "Requirement already satisfied: pandas>=1.3.0 in c:\\programdata\\anaconda3\\lib\\site-packages (from yfinance) (2.1.4)\n",
      "Requirement already satisfied: numpy>=1.16.5 in c:\\programdata\\anaconda3\\lib\\site-packages (from yfinance) (1.26.4)\n",
      "Requirement already satisfied: requests>=2.31 in c:\\programdata\\anaconda3\\lib\\site-packages (from yfinance) (2.31.0)\n",
      "Requirement already satisfied: multitasking>=0.0.7 in c:\\users\\ferhat.hancer\\appdata\\roaming\\python\\python311\\site-packages (from yfinance) (0.0.11)\n",
      "Requirement already satisfied: lxml>=4.9.1 in c:\\programdata\\anaconda3\\lib\\site-packages (from yfinance) (4.9.3)\n",
      "Requirement already satisfied: platformdirs>=2.0.0 in c:\\programdata\\anaconda3\\lib\\site-packages (from yfinance) (3.10.0)\n",
      "Requirement already satisfied: pytz>=2022.5 in c:\\programdata\\anaconda3\\lib\\site-packages (from yfinance) (2023.3.post1)\n",
      "Requirement already satisfied: frozendict>=2.3.4 in c:\\users\\ferhat.hancer\\appdata\\roaming\\python\\python311\\site-packages (from yfinance) (2.4.4)\n",
      "Requirement already satisfied: peewee>=3.16.2 in c:\\users\\ferhat.hancer\\appdata\\roaming\\python\\python311\\site-packages (from yfinance) (3.17.6)\n",
      "Requirement already satisfied: beautifulsoup4>=4.11.1 in c:\\programdata\\anaconda3\\lib\\site-packages (from yfinance) (4.12.2)\n",
      "Requirement already satisfied: html5lib>=1.1 in c:\\users\\ferhat.hancer\\appdata\\roaming\\python\\python311\\site-packages (from yfinance) (1.1)\n",
      "Requirement already satisfied: soupsieve>1.2 in c:\\programdata\\anaconda3\\lib\\site-packages (from beautifulsoup4>=4.11.1->yfinance) (2.5)\n",
      "Requirement already satisfied: six>=1.9 in c:\\programdata\\anaconda3\\lib\\site-packages (from html5lib>=1.1->yfinance) (1.16.0)\n",
      "Requirement already satisfied: webencodings in c:\\programdata\\anaconda3\\lib\\site-packages (from html5lib>=1.1->yfinance) (0.5.1)\n",
      "Requirement already satisfied: python-dateutil>=2.8.2 in c:\\programdata\\anaconda3\\lib\\site-packages (from pandas>=1.3.0->yfinance) (2.8.2)\n",
      "Requirement already satisfied: tzdata>=2022.1 in c:\\programdata\\anaconda3\\lib\\site-packages (from pandas>=1.3.0->yfinance) (2023.3)\n",
      "Requirement already satisfied: charset-normalizer<4,>=2 in c:\\programdata\\anaconda3\\lib\\site-packages (from requests>=2.31->yfinance) (2.0.4)\n",
      "Requirement already satisfied: idna<4,>=2.5 in c:\\programdata\\anaconda3\\lib\\site-packages (from requests>=2.31->yfinance) (3.4)\n",
      "Requirement already satisfied: urllib3<3,>=1.21.1 in c:\\programdata\\anaconda3\\lib\\site-packages (from requests>=2.31->yfinance) (2.0.7)\n",
      "Requirement already satisfied: certifi>=2017.4.17 in c:\\programdata\\anaconda3\\lib\\site-packages (from requests>=2.31->yfinance) (2024.2.2)\n",
      "Defaulting to user installation because normal site-packages is not writeable\n",
      "Requirement already satisfied: pandas_datareader in c:\\users\\ferhat.hancer\\appdata\\roaming\\python\\python311\\site-packages (0.10.0)\n",
      "Requirement already satisfied: lxml in c:\\programdata\\anaconda3\\lib\\site-packages (from pandas_datareader) (4.9.3)\n",
      "Requirement already satisfied: pandas>=0.23 in c:\\programdata\\anaconda3\\lib\\site-packages (from pandas_datareader) (2.1.4)\n",
      "Requirement already satisfied: requests>=2.19.0 in c:\\programdata\\anaconda3\\lib\\site-packages (from pandas_datareader) (2.31.0)\n",
      "Requirement already satisfied: numpy<2,>=1.23.2 in c:\\programdata\\anaconda3\\lib\\site-packages (from pandas>=0.23->pandas_datareader) (1.26.4)\n",
      "Requirement already satisfied: python-dateutil>=2.8.2 in c:\\programdata\\anaconda3\\lib\\site-packages (from pandas>=0.23->pandas_datareader) (2.8.2)\n",
      "Requirement already satisfied: pytz>=2020.1 in c:\\programdata\\anaconda3\\lib\\site-packages (from pandas>=0.23->pandas_datareader) (2023.3.post1)\n",
      "Requirement already satisfied: tzdata>=2022.1 in c:\\programdata\\anaconda3\\lib\\site-packages (from pandas>=0.23->pandas_datareader) (2023.3)\n",
      "Requirement already satisfied: charset-normalizer<4,>=2 in c:\\programdata\\anaconda3\\lib\\site-packages (from requests>=2.19.0->pandas_datareader) (2.0.4)\n",
      "Requirement already satisfied: idna<4,>=2.5 in c:\\programdata\\anaconda3\\lib\\site-packages (from requests>=2.19.0->pandas_datareader) (3.4)\n",
      "Requirement already satisfied: urllib3<3,>=1.21.1 in c:\\programdata\\anaconda3\\lib\\site-packages (from requests>=2.19.0->pandas_datareader) (2.0.7)\n",
      "Requirement already satisfied: certifi>=2017.4.17 in c:\\programdata\\anaconda3\\lib\\site-packages (from requests>=2.19.0->pandas_datareader) (2024.2.2)\n",
      "Requirement already satisfied: six>=1.5 in c:\\programdata\\anaconda3\\lib\\site-packages (from python-dateutil>=2.8.2->pandas>=0.23->pandas_datareader) (1.16.0)\n",
      "Defaulting to user installation because normal site-packages is not writeable\n",
      "Collecting pandas_datareader==0.9.0\n",
      "  Downloading pandas_datareader-0.9.0-py3-none-any.whl.metadata (3.2 kB)\n",
      "Requirement already satisfied: lxml in c:\\programdata\\anaconda3\\lib\\site-packages (from pandas_datareader==0.9.0) (4.9.3)\n",
      "Requirement already satisfied: pandas>=0.23 in c:\\programdata\\anaconda3\\lib\\site-packages (from pandas_datareader==0.9.0) (2.1.4)\n",
      "Requirement already satisfied: requests>=2.19.0 in c:\\programdata\\anaconda3\\lib\\site-packages (from pandas_datareader==0.9.0) (2.31.0)\n",
      "Requirement already satisfied: numpy<2,>=1.23.2 in c:\\programdata\\anaconda3\\lib\\site-packages (from pandas>=0.23->pandas_datareader==0.9.0) (1.26.4)\n",
      "Requirement already satisfied: python-dateutil>=2.8.2 in c:\\programdata\\anaconda3\\lib\\site-packages (from pandas>=0.23->pandas_datareader==0.9.0) (2.8.2)\n",
      "Requirement already satisfied: pytz>=2020.1 in c:\\programdata\\anaconda3\\lib\\site-packages (from pandas>=0.23->pandas_datareader==0.9.0) (2023.3.post1)\n",
      "Requirement already satisfied: tzdata>=2022.1 in c:\\programdata\\anaconda3\\lib\\site-packages (from pandas>=0.23->pandas_datareader==0.9.0) (2023.3)\n",
      "Requirement already satisfied: charset-normalizer<4,>=2 in c:\\programdata\\anaconda3\\lib\\site-packages (from requests>=2.19.0->pandas_datareader==0.9.0) (2.0.4)\n",
      "Requirement already satisfied: idna<4,>=2.5 in c:\\programdata\\anaconda3\\lib\\site-packages (from requests>=2.19.0->pandas_datareader==0.9.0) (3.4)\n",
      "Requirement already satisfied: urllib3<3,>=1.21.1 in c:\\programdata\\anaconda3\\lib\\site-packages (from requests>=2.19.0->pandas_datareader==0.9.0) (2.0.7)\n",
      "Requirement already satisfied: certifi>=2017.4.17 in c:\\programdata\\anaconda3\\lib\\site-packages (from requests>=2.19.0->pandas_datareader==0.9.0) (2024.2.2)\n",
      "Requirement already satisfied: six>=1.5 in c:\\programdata\\anaconda3\\lib\\site-packages (from python-dateutil>=2.8.2->pandas>=0.23->pandas_datareader==0.9.0) (1.16.0)\n",
      "Downloading pandas_datareader-0.9.0-py3-none-any.whl (107 kB)\n",
      "   ---------------------------------------- 0.0/107.5 kB ? eta -:--:--\n",
      "   --- ------------------------------------ 10.2/107.5 kB ? eta -:--:--\n",
      "   ----------- --------------------------- 30.7/107.5 kB 640.0 kB/s eta 0:00:01\n",
      "   ---------------------- ---------------- 61.4/107.5 kB 648.1 kB/s eta 0:00:01\n",
      "   -------------------------------------- 107.5/107.5 kB 778.2 kB/s eta 0:00:00\n",
      "Installing collected packages: pandas_datareader\n",
      "  Attempting uninstall: pandas_datareader\n",
      "    Found existing installation: pandas-datareader 0.10.0\n",
      "    Uninstalling pandas-datareader-0.10.0:\n",
      "      Successfully uninstalled pandas-datareader-0.10.0\n",
      "Successfully installed pandas_datareader-0.9.0\n"
     ]
    }
   ],
   "source": [
    "!pip install yfinance --upgrade --no-cache-dir\n",
    "!pip install pandas_datareader --upgrade --no-cache-dir"
   ]
  },
  {
   "cell_type": "code",
   "execution_count": 9,
   "id": "27d59f31-61c3-4318-a9c4-766d20ea58a7",
   "metadata": {},
   "outputs": [],
   "source": [
    "from pandas_datareader import data as pdr                #import pandas datareader\n",
    "import yfinance as yf  \n",
    "import pandas as pd\n",
    "from pandas import Series,DataFrame\n",
    "import numpy as np\n",
    "import matplotlib.pyplot as plt\n",
    "import seaborn as sns\n",
    "from datetime import datetime\n",
    "from __future__ import division\n",
    "%matplotlib inline\n",
    "\n",
    "# Define a custom function to fetch data using yfinance\n",
    "def custom_get_data_yahoo(*args, **kwargs):\n",
    "    return yf.download(*args, **kwargs)\n",
    "\n",
    "# Override pandas_datareader's get_data_yahoo with the custom function\n",
    "pdr.get_data_yahoo = custom_get_data_yahoo\n",
    "#import pandas_datareader.data as DataReader"
   ]
  },
  {
   "cell_type": "code",
   "execution_count": 11,
   "id": "54355461-0aab-4d8e-8bcc-78243fd5c96b",
   "metadata": {},
   "outputs": [
    {
     "name": "stderr",
     "output_type": "stream",
     "text": [
      "[*********************100%%**********************]  1 of 1 completed"
     ]
    },
    {
     "name": "stdout",
     "output_type": "stream",
     "text": [
      "                 Open       High        Low      Close  Adj Close     Volume\n",
      "Date                                                                        \n",
      "2020-01-02  74.059998  75.150002  73.797501  75.087502  72.960449  135480400\n",
      "2020-01-03  74.287498  75.144997  74.125000  74.357498  72.251144  146322800\n",
      "2020-01-06  73.447502  74.989998  73.187500  74.949997  72.826859  118387200\n",
      "2020-01-07  74.959999  75.224998  74.370003  74.597504  72.484344  108872000\n",
      "2020-01-08  74.290001  76.110001  74.290001  75.797501  73.650330  132079200\n"
     ]
    },
    {
     "name": "stderr",
     "output_type": "stream",
     "text": [
      "\n"
     ]
    }
   ],
   "source": [
    "ticker = 'AAPL'\n",
    "start_date = '2020-01-01'\n",
    "end_date = '2021-01-01'\n",
    "\n",
    "try:\n",
    "    data = pdr.get_data_yahoo(ticker, start=start_date, end=end_date)\n",
    "    print(data.head())\n",
    "except Exception as e:\n",
    "    print(f\"An error occurred while fetching data: {e}\")"
   ]
  },
  {
   "cell_type": "code",
   "execution_count": 13,
   "id": "14889816-8376-42b3-832c-85d8e59d817e",
   "metadata": {},
   "outputs": [
    {
     "name": "stdout",
     "output_type": "stream",
     "text": [
      "25\n"
     ]
    }
   ],
   "source": [
    "def add_dynamic_function():\n",
    "    globals()['dynamic_func'] = lambda x: x * x\n",
    "\n",
    "add_dynamic_function()\n",
    "print(dynamic_func(5))  # Outputs: 25"
   ]
  },
  {
   "cell_type": "code",
   "execution_count": 14,
   "id": "98158a2e-deed-494f-a21c-5e2d163436ae",
   "metadata": {},
   "outputs": [],
   "source": [
    "tech_list = ['AAPL','GOOG','MSFT','AMZN']"
   ]
  },
  {
   "cell_type": "code",
   "execution_count": 15,
   "id": "a05875fb-9947-4bb9-8507-75402aaa67b9",
   "metadata": {},
   "outputs": [],
   "source": [
    "end = datetime.now()\n",
    "start = datetime(end.year - 1,end.month,end.day)"
   ]
  },
  {
   "cell_type": "code",
   "execution_count": 16,
   "id": "fcd58778-8f59-4369-9be7-d002fc14e112",
   "metadata": {},
   "outputs": [
    {
     "name": "stderr",
     "output_type": "stream",
     "text": [
      "[*********************100%%**********************]  1 of 1 completed\n",
      "[*********************100%%**********************]  1 of 1 completed\n",
      "[*********************100%%**********************]  1 of 1 completed\n",
      "[*********************100%%**********************]  1 of 1 completed\n"
     ]
    }
   ],
   "source": [
    "for stock in tech_list:\n",
    "    globals()[stock] = pdr.get_data_yahoo(stock, start, end)"
   ]
  },
  {
   "cell_type": "code",
   "execution_count": 17,
   "id": "209fd527-2c1a-46f5-9169-cc95205e0d4b",
   "metadata": {},
   "outputs": [
    {
     "data": {
      "text/html": [
       "<div>\n",
       "<style scoped>\n",
       "    .dataframe tbody tr th:only-of-type {\n",
       "        vertical-align: middle;\n",
       "    }\n",
       "\n",
       "    .dataframe tbody tr th {\n",
       "        vertical-align: top;\n",
       "    }\n",
       "\n",
       "    .dataframe thead th {\n",
       "        text-align: right;\n",
       "    }\n",
       "</style>\n",
       "<table border=\"1\" class=\"dataframe\">\n",
       "  <thead>\n",
       "    <tr style=\"text-align: right;\">\n",
       "      <th></th>\n",
       "      <th>Open</th>\n",
       "      <th>High</th>\n",
       "      <th>Low</th>\n",
       "      <th>Close</th>\n",
       "      <th>Adj Close</th>\n",
       "      <th>Volume</th>\n",
       "    </tr>\n",
       "    <tr>\n",
       "      <th>Date</th>\n",
       "      <th></th>\n",
       "      <th></th>\n",
       "      <th></th>\n",
       "      <th></th>\n",
       "      <th></th>\n",
       "      <th></th>\n",
       "    </tr>\n",
       "  </thead>\n",
       "  <tbody>\n",
       "    <tr>\n",
       "      <th>2023-07-24</th>\n",
       "      <td>193.410004</td>\n",
       "      <td>194.910004</td>\n",
       "      <td>192.250000</td>\n",
       "      <td>192.750000</td>\n",
       "      <td>191.731766</td>\n",
       "      <td>45377800</td>\n",
       "    </tr>\n",
       "    <tr>\n",
       "      <th>2023-07-25</th>\n",
       "      <td>193.330002</td>\n",
       "      <td>194.440002</td>\n",
       "      <td>192.919998</td>\n",
       "      <td>193.619995</td>\n",
       "      <td>192.597153</td>\n",
       "      <td>37283200</td>\n",
       "    </tr>\n",
       "    <tr>\n",
       "      <th>2023-07-26</th>\n",
       "      <td>193.669998</td>\n",
       "      <td>195.639999</td>\n",
       "      <td>193.320007</td>\n",
       "      <td>194.500000</td>\n",
       "      <td>193.472504</td>\n",
       "      <td>47471900</td>\n",
       "    </tr>\n",
       "    <tr>\n",
       "      <th>2023-07-27</th>\n",
       "      <td>196.020004</td>\n",
       "      <td>197.199997</td>\n",
       "      <td>192.550003</td>\n",
       "      <td>193.220001</td>\n",
       "      <td>192.199265</td>\n",
       "      <td>47460200</td>\n",
       "    </tr>\n",
       "    <tr>\n",
       "      <th>2023-07-28</th>\n",
       "      <td>194.669998</td>\n",
       "      <td>196.630005</td>\n",
       "      <td>194.139999</td>\n",
       "      <td>195.830002</td>\n",
       "      <td>194.795486</td>\n",
       "      <td>48291400</td>\n",
       "    </tr>\n",
       "    <tr>\n",
       "      <th>...</th>\n",
       "      <td>...</td>\n",
       "      <td>...</td>\n",
       "      <td>...</td>\n",
       "      <td>...</td>\n",
       "      <td>...</td>\n",
       "      <td>...</td>\n",
       "    </tr>\n",
       "    <tr>\n",
       "      <th>2024-07-15</th>\n",
       "      <td>236.479996</td>\n",
       "      <td>237.229996</td>\n",
       "      <td>233.089996</td>\n",
       "      <td>234.399994</td>\n",
       "      <td>234.399994</td>\n",
       "      <td>62631300</td>\n",
       "    </tr>\n",
       "    <tr>\n",
       "      <th>2024-07-16</th>\n",
       "      <td>235.000000</td>\n",
       "      <td>236.270004</td>\n",
       "      <td>232.330002</td>\n",
       "      <td>234.820007</td>\n",
       "      <td>234.820007</td>\n",
       "      <td>43234300</td>\n",
       "    </tr>\n",
       "    <tr>\n",
       "      <th>2024-07-17</th>\n",
       "      <td>229.449997</td>\n",
       "      <td>231.460007</td>\n",
       "      <td>226.639999</td>\n",
       "      <td>228.880005</td>\n",
       "      <td>228.880005</td>\n",
       "      <td>57345900</td>\n",
       "    </tr>\n",
       "    <tr>\n",
       "      <th>2024-07-18</th>\n",
       "      <td>230.279999</td>\n",
       "      <td>230.440002</td>\n",
       "      <td>222.270004</td>\n",
       "      <td>224.179993</td>\n",
       "      <td>224.179993</td>\n",
       "      <td>66034600</td>\n",
       "    </tr>\n",
       "    <tr>\n",
       "      <th>2024-07-19</th>\n",
       "      <td>224.820007</td>\n",
       "      <td>226.800003</td>\n",
       "      <td>223.279999</td>\n",
       "      <td>224.309998</td>\n",
       "      <td>224.309998</td>\n",
       "      <td>48992100</td>\n",
       "    </tr>\n",
       "  </tbody>\n",
       "</table>\n",
       "<p>250 rows × 6 columns</p>\n",
       "</div>"
      ],
      "text/plain": [
       "                  Open        High         Low       Close   Adj Close  \\\n",
       "Date                                                                     \n",
       "2023-07-24  193.410004  194.910004  192.250000  192.750000  191.731766   \n",
       "2023-07-25  193.330002  194.440002  192.919998  193.619995  192.597153   \n",
       "2023-07-26  193.669998  195.639999  193.320007  194.500000  193.472504   \n",
       "2023-07-27  196.020004  197.199997  192.550003  193.220001  192.199265   \n",
       "2023-07-28  194.669998  196.630005  194.139999  195.830002  194.795486   \n",
       "...                ...         ...         ...         ...         ...   \n",
       "2024-07-15  236.479996  237.229996  233.089996  234.399994  234.399994   \n",
       "2024-07-16  235.000000  236.270004  232.330002  234.820007  234.820007   \n",
       "2024-07-17  229.449997  231.460007  226.639999  228.880005  228.880005   \n",
       "2024-07-18  230.279999  230.440002  222.270004  224.179993  224.179993   \n",
       "2024-07-19  224.820007  226.800003  223.279999  224.309998  224.309998   \n",
       "\n",
       "              Volume  \n",
       "Date                  \n",
       "2023-07-24  45377800  \n",
       "2023-07-25  37283200  \n",
       "2023-07-26  47471900  \n",
       "2023-07-27  47460200  \n",
       "2023-07-28  48291400  \n",
       "...              ...  \n",
       "2024-07-15  62631300  \n",
       "2024-07-16  43234300  \n",
       "2024-07-17  57345900  \n",
       "2024-07-18  66034600  \n",
       "2024-07-19  48992100  \n",
       "\n",
       "[250 rows x 6 columns]"
      ]
     },
     "execution_count": 17,
     "metadata": {},
     "output_type": "execute_result"
    }
   ],
   "source": [
    "AAPL"
   ]
  },
  {
   "cell_type": "code",
   "execution_count": 31,
   "id": "95a7cbeb-7e9e-4c19-9225-9a770e8715b8",
   "metadata": {},
   "outputs": [
    {
     "data": {
      "text/html": [
       "<div>\n",
       "<style scoped>\n",
       "    .dataframe tbody tr th:only-of-type {\n",
       "        vertical-align: middle;\n",
       "    }\n",
       "\n",
       "    .dataframe tbody tr th {\n",
       "        vertical-align: top;\n",
       "    }\n",
       "\n",
       "    .dataframe thead th {\n",
       "        text-align: right;\n",
       "    }\n",
       "</style>\n",
       "<table border=\"1\" class=\"dataframe\">\n",
       "  <thead>\n",
       "    <tr style=\"text-align: right;\">\n",
       "      <th></th>\n",
       "      <th>Open</th>\n",
       "      <th>High</th>\n",
       "      <th>Low</th>\n",
       "      <th>Close</th>\n",
       "      <th>Adj Close</th>\n",
       "      <th>Volume</th>\n",
       "    </tr>\n",
       "    <tr>\n",
       "      <th>Date</th>\n",
       "      <th></th>\n",
       "      <th></th>\n",
       "      <th></th>\n",
       "      <th></th>\n",
       "      <th></th>\n",
       "      <th></th>\n",
       "    </tr>\n",
       "  </thead>\n",
       "  <tbody>\n",
       "    <tr>\n",
       "      <th>2023-07-24</th>\n",
       "      <td>121.926003</td>\n",
       "      <td>123.349998</td>\n",
       "      <td>121.379997</td>\n",
       "      <td>121.879997</td>\n",
       "      <td>121.741463</td>\n",
       "      <td>22276100</td>\n",
       "    </tr>\n",
       "    <tr>\n",
       "      <th>2023-07-25</th>\n",
       "      <td>121.879997</td>\n",
       "      <td>123.690002</td>\n",
       "      <td>121.529999</td>\n",
       "      <td>122.790001</td>\n",
       "      <td>122.650429</td>\n",
       "      <td>31820800</td>\n",
       "    </tr>\n",
       "    <tr>\n",
       "      <th>2023-07-26</th>\n",
       "      <td>130.360001</td>\n",
       "      <td>131.369995</td>\n",
       "      <td>128.710007</td>\n",
       "      <td>129.660004</td>\n",
       "      <td>129.512619</td>\n",
       "      <td>46216900</td>\n",
       "    </tr>\n",
       "    <tr>\n",
       "      <th>2023-07-27</th>\n",
       "      <td>131.800003</td>\n",
       "      <td>133.600006</td>\n",
       "      <td>129.179993</td>\n",
       "      <td>129.869995</td>\n",
       "      <td>129.722382</td>\n",
       "      <td>35931600</td>\n",
       "    </tr>\n",
       "    <tr>\n",
       "      <th>2023-07-28</th>\n",
       "      <td>130.970001</td>\n",
       "      <td>134.070007</td>\n",
       "      <td>130.919998</td>\n",
       "      <td>133.009995</td>\n",
       "      <td>132.858810</td>\n",
       "      <td>26971000</td>\n",
       "    </tr>\n",
       "  </tbody>\n",
       "</table>\n",
       "</div>"
      ],
      "text/plain": [
       "                  Open        High         Low       Close   Adj Close  \\\n",
       "Date                                                                     \n",
       "2023-07-24  121.926003  123.349998  121.379997  121.879997  121.741463   \n",
       "2023-07-25  121.879997  123.690002  121.529999  122.790001  122.650429   \n",
       "2023-07-26  130.360001  131.369995  128.710007  129.660004  129.512619   \n",
       "2023-07-27  131.800003  133.600006  129.179993  129.869995  129.722382   \n",
       "2023-07-28  130.970001  134.070007  130.919998  133.009995  132.858810   \n",
       "\n",
       "              Volume  \n",
       "Date                  \n",
       "2023-07-24  22276100  \n",
       "2023-07-25  31820800  \n",
       "2023-07-26  46216900  \n",
       "2023-07-27  35931600  \n",
       "2023-07-28  26971000  "
      ]
     },
     "execution_count": 31,
     "metadata": {},
     "output_type": "execute_result"
    }
   ],
   "source": [
    "GOOG.head()"
   ]
  },
  {
   "cell_type": "code",
   "execution_count": 32,
   "id": "93a0f0a2-3596-4c98-ba68-563140069560",
   "metadata": {},
   "outputs": [
    {
     "data": {
      "text/html": [
       "<div>\n",
       "<style scoped>\n",
       "    .dataframe tbody tr th:only-of-type {\n",
       "        vertical-align: middle;\n",
       "    }\n",
       "\n",
       "    .dataframe tbody tr th {\n",
       "        vertical-align: top;\n",
       "    }\n",
       "\n",
       "    .dataframe thead th {\n",
       "        text-align: right;\n",
       "    }\n",
       "</style>\n",
       "<table border=\"1\" class=\"dataframe\">\n",
       "  <thead>\n",
       "    <tr style=\"text-align: right;\">\n",
       "      <th></th>\n",
       "      <th>Open</th>\n",
       "      <th>High</th>\n",
       "      <th>Low</th>\n",
       "      <th>Close</th>\n",
       "      <th>Adj Close</th>\n",
       "      <th>Volume</th>\n",
       "    </tr>\n",
       "  </thead>\n",
       "  <tbody>\n",
       "    <tr>\n",
       "      <th>count</th>\n",
       "      <td>250.000000</td>\n",
       "      <td>250.000000</td>\n",
       "      <td>250.000000</td>\n",
       "      <td>250.000000</td>\n",
       "      <td>250.000000</td>\n",
       "      <td>2.500000e+02</td>\n",
       "    </tr>\n",
       "    <tr>\n",
       "      <th>mean</th>\n",
       "      <td>186.009160</td>\n",
       "      <td>187.632960</td>\n",
       "      <td>184.483840</td>\n",
       "      <td>186.092120</td>\n",
       "      <td>185.676200</td>\n",
       "      <td>6.051880e+07</td>\n",
       "    </tr>\n",
       "    <tr>\n",
       "      <th>std</th>\n",
       "      <td>14.630267</td>\n",
       "      <td>14.812289</td>\n",
       "      <td>14.368141</td>\n",
       "      <td>14.641144</td>\n",
       "      <td>14.752373</td>\n",
       "      <td>2.471229e+07</td>\n",
       "    </tr>\n",
       "    <tr>\n",
       "      <th>min</th>\n",
       "      <td>165.350006</td>\n",
       "      <td>166.399994</td>\n",
       "      <td>164.080002</td>\n",
       "      <td>165.000000</td>\n",
       "      <td>164.776505</td>\n",
       "      <td>2.404830e+07</td>\n",
       "    </tr>\n",
       "    <tr>\n",
       "      <th>25%</th>\n",
       "      <td>175.212494</td>\n",
       "      <td>176.997501</td>\n",
       "      <td>173.620003</td>\n",
       "      <td>175.190006</td>\n",
       "      <td>174.799732</td>\n",
       "      <td>4.735310e+07</td>\n",
       "    </tr>\n",
       "    <tr>\n",
       "      <th>50%</th>\n",
       "      <td>183.514999</td>\n",
       "      <td>185.064995</td>\n",
       "      <td>181.864998</td>\n",
       "      <td>183.745003</td>\n",
       "      <td>183.271118</td>\n",
       "      <td>5.397365e+07</td>\n",
       "    </tr>\n",
       "    <tr>\n",
       "      <th>75%</th>\n",
       "      <td>192.292503</td>\n",
       "      <td>193.497501</td>\n",
       "      <td>191.047497</td>\n",
       "      <td>192.402500</td>\n",
       "      <td>191.889542</td>\n",
       "      <td>6.605582e+07</td>\n",
       "    </tr>\n",
       "    <tr>\n",
       "      <th>max</th>\n",
       "      <td>236.479996</td>\n",
       "      <td>237.229996</td>\n",
       "      <td>233.089996</td>\n",
       "      <td>234.820007</td>\n",
       "      <td>234.820007</td>\n",
       "      <td>2.464214e+08</td>\n",
       "    </tr>\n",
       "  </tbody>\n",
       "</table>\n",
       "</div>"
      ],
      "text/plain": [
       "             Open        High         Low       Close   Adj Close  \\\n",
       "count  250.000000  250.000000  250.000000  250.000000  250.000000   \n",
       "mean   186.009160  187.632960  184.483840  186.092120  185.676200   \n",
       "std     14.630267   14.812289   14.368141   14.641144   14.752373   \n",
       "min    165.350006  166.399994  164.080002  165.000000  164.776505   \n",
       "25%    175.212494  176.997501  173.620003  175.190006  174.799732   \n",
       "50%    183.514999  185.064995  181.864998  183.745003  183.271118   \n",
       "75%    192.292503  193.497501  191.047497  192.402500  191.889542   \n",
       "max    236.479996  237.229996  233.089996  234.820007  234.820007   \n",
       "\n",
       "             Volume  \n",
       "count  2.500000e+02  \n",
       "mean   6.051880e+07  \n",
       "std    2.471229e+07  \n",
       "min    2.404830e+07  \n",
       "25%    4.735310e+07  \n",
       "50%    5.397365e+07  \n",
       "75%    6.605582e+07  \n",
       "max    2.464214e+08  "
      ]
     },
     "execution_count": 32,
     "metadata": {},
     "output_type": "execute_result"
    }
   ],
   "source": [
    "AAPL.describe()"
   ]
  },
  {
   "cell_type": "code",
   "execution_count": 33,
   "id": "3ff91715-97c7-412c-89b2-2020a22d7770",
   "metadata": {},
   "outputs": [
    {
     "name": "stdout",
     "output_type": "stream",
     "text": [
      "<class 'pandas.core.frame.DataFrame'>\n",
      "DatetimeIndex: 250 entries, 2023-07-24 to 2024-07-19\n",
      "Data columns (total 6 columns):\n",
      " #   Column     Non-Null Count  Dtype  \n",
      "---  ------     --------------  -----  \n",
      " 0   Open       250 non-null    float64\n",
      " 1   High       250 non-null    float64\n",
      " 2   Low        250 non-null    float64\n",
      " 3   Close      250 non-null    float64\n",
      " 4   Adj Close  250 non-null    float64\n",
      " 5   Volume     250 non-null    int64  \n",
      "dtypes: float64(5), int64(1)\n",
      "memory usage: 13.7 KB\n"
     ]
    }
   ],
   "source": [
    "AAPL.info()"
   ]
  },
  {
   "cell_type": "code",
   "execution_count": 37,
   "id": "4c5fa9fc-f0db-4abb-a219-e39ec4b8d47d",
   "metadata": {},
   "outputs": [
    {
     "data": {
      "text/plain": [
       "<Axes: xlabel='Date'>"
      ]
     },
     "execution_count": 37,
     "metadata": {},
     "output_type": "execute_result"
    },
    {
     "data": {
      "image/png": "[encoded data removed]",
      "text/plain": [
       "<Figure size 1000x400 with 1 Axes>"
      ]
     },
     "metadata": {},
     "output_type": "display_data"
    }
   ],
   "source": [
    "AAPL['Adj Close'].plot(legend=True,figsize=(10,4))"
   ]
  },
  {
   "cell_type": "code",
   "execution_count": 38,
   "id": "34b6017b-b9c9-431b-9adc-bc20d50aae17",
   "metadata": {},
   "outputs": [
    {
     "data": {
      "text/plain": [
       "<Axes: xlabel='Date'>"
      ]
     },
     "execution_count": 38,
     "metadata": {},
     "output_type": "execute_result"
    },
    {
     "data": {
      "image/png": "[encoded data removed]",
      "text/plain": [
       "<Figure size 1000x400 with 1 Axes>"
      ]
     },
     "metadata": {},
     "output_type": "display_data"
    }
   ],
   "source": [
    "AAPL['Volume'].plot(legend=True,figsize=(10,4))"
   ]
  },
  {
   "cell_type": "code",
   "execution_count": null,
   "id": "43c725ff-4ce6-4bf0-80a6-2fbf81aca89b",
   "metadata": {},
   "outputs": [],
   "source": [
    "#moving averege :\n",
    "# www.investopedia.com/terms/m/movingaverage.asp\n",
    "# www.investopedia.com/articles/active-trading/052014/how-use-moving-average-buy-stocks.asp"
   ]
  }
 ],
 "metadata": {
  "kernelspec": {
   "display_name": "Python 3 (ipykernel)",
   "language": "python",
   "name": "python3"
  },
  "language_info": {
   "codemirror_mode": {
    "name": "ipython",
    "version": 3
   },
   "file_extension": ".py",
   "mimetype": "text/x-python",
   "name": "python",
   "nbconvert_exporter": "python",
   "pygments_lexer": "ipython3",
   "version": "3.11.7"
  }
 },
 "nbformat": 4,
 "nbformat_minor": 5
}
