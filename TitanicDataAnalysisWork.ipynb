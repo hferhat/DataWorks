{
 "cells": [
  {
   "cell_type": "markdown",
   "id": "20130e9d-bc02-4444-9480-470897b10b81",
   "metadata": {},
   "source": [
    "Kaggle Titanic Datasetinde Jose Portilla eğitimi çalışmaları"
   ]
  },
  {
   "cell_type": "code",
   "execution_count": null,
   "id": "5c2abb61-679f-464a-9c2d-38197d979d1c",
   "metadata": {},
   "outputs": [],
   "source": []
  }
 ],
 "metadata": {
  "kernelspec": {
   "display_name": "Python 3 (ipykernel)",
   "language": "python",
   "name": "python3"
  },
  "language_info": {
   "codemirror_mode": {
    "name": "ipython",
    "version": 3
   },
   "file_extension": ".py",
   "mimetype": "text/x-python",
   "name": "python",
   "nbconvert_exporter": "python",
   "pygments_lexer": "ipython3",
   "version": "3.11.7"
  }
 },
 "nbformat": 4,
 "nbformat_minor": 5
}
