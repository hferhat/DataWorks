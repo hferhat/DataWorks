{
 "cells": [
  {
   "cell_type": "code",
   "execution_count": 1,
   "id": "ebe5a3b5-72a3-4728-bbc9-74272e2479d8",
   "metadata": {},
   "outputs": [
    {
     "name": "stdout",
     "output_type": "stream",
     "text": [
      "Hello\n"
     ]
    }
   ],
   "source": [
    "print(\"Hello\")"
   ]
  },
  {
   "cell_type": "code",
   "execution_count": 2,
   "id": "3f338ae8-75f9-4dde-acad-05936cfc6161",
   "metadata": {},
   "outputs": [
    {
     "name": "stdout",
     "output_type": "stream",
     "text": [
      "hellooo world\n"
     ]
    }
   ],
   "source": [
    "print(\"hellooo world\")"
   ]
  },
  {
   "cell_type": "code",
   "execution_count": 4,
   "id": "e60bfff7-757d-4249-b0eb-810c1a0dbc16",
   "metadata": {},
   "outputs": [
    {
     "name": "stdout",
     "output_type": "stream",
     "text": [
      "hadiii\n"
     ]
    }
   ],
   "source": [
    "print(\"hadiii\")"
   ]
  },
  {
   "cell_type": "code",
   "execution_count": null,
   "id": "653cc85f-65ef-49c7-97b0-45e65c77bb3c",
   "metadata": {},
   "outputs": [],
   "source": []
  }
 ],
 "metadata": {
  "kernelspec": {
   "display_name": "Python 3 (ipykernel)",
   "language": "python",
   "name": "python3"
  },
  "language_info": {
   "codemirror_mode": {
    "name": "ipython",
    "version": 3
   },
   "file_extension": ".py",
   "mimetype": "text/x-python",
   "name": "python",
   "nbconvert_exporter": "python",
   "pygments_lexer": "ipython3",
   "version": "3.11.7"
  }
 },
 "nbformat": 4,
 "nbformat_minor": 5
}
