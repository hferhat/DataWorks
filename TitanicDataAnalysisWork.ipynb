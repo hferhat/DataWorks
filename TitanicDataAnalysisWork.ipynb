{
 "cells": [
  {
   "cell_type": "code",
   "execution_count": 1,
   "id": "ebe5a3b5-72a3-4728-bbc9-74272e2479d8",
   "metadata": {},
   "outputs": [
    {
     "name": "stdout",
     "output_type": "stream",
     "text": [
      "Hello\n"
     ]
    }
   ],
   "source": [
    "print(\"Hello\")"
   ]
  },
  {
   "cell_type": "code",
   "execution_count": 2,
   "id": "3f338ae8-75f9-4dde-acad-05936cfc6161",
   "metadata": {},
   "outputs": [
    {
     "name": "stdout",
     "output_type": "stream",
     "text": [
      "hellooo world\n"
     ]
    }
   ],
   "source": [
    "print(\"hellooo world\")"
   ]
  },
  {
   "cell_type": "code",
   "execution_count": 4,
   "id": "e60bfff7-757d-4249-b0eb-810c1a0dbc16",
   "metadata": {},
   "outputs": [
    {
     "name": "stdout",
     "output_type": "stream",
     "text": [
      "hadiii\n"
     ]
    }
   ],
   "source": [
    "print(\"hadiii\")"
   ]
  },
  {
   "cell_type": "code",
   "execution_count": 5,
   "id": "653cc85f-65ef-49c7-97b0-45e65c77bb3c",
   "metadata": {},
   "outputs": [
    {
     "name": "stdout",
     "output_type": "stream",
     "text": [
      "yeniden deneme\n"
     ]
    }
   ],
   "source": [
    "print(\"yeniden deneme\")"
   ]
  },
  {
   "cell_type": "code",
   "execution_count": 6,
   "id": "4b62c2c8-644c-4a05-b43c-cbe2ce1d0c76",
   "metadata": {},
   "outputs": [
    {
     "name": "stdout",
     "output_type": "stream",
     "text": [
      "son deneme\n"
     ]
    }
   ],
   "source": [
    "print(\"son deneme\")"
   ]
  },
  {
   "cell_type": "code",
   "execution_count": 7,
   "id": "19902522-2eb2-4e43-93dc-4c0873c174ae",
   "metadata": {},
   "outputs": [
    {
     "name": "stderr",
     "output_type": "stream",
     "text": [
      "warning: in the working copy of 'TitanicDataAnalysisWork.ipynb', LF will be replaced by CRLF the next time Git touches it\n"
     ]
    }
   ],
   "source": [
    "!git add ."
   ]
  },
  {
   "cell_type": "code",
   "execution_count": 8,
   "id": "ab8b8e10-18fd-4027-a25c-846e7ea36352",
   "metadata": {},
   "outputs": [
    {
     "name": "stderr",
     "output_type": "stream",
     "text": [
      "error: switch `m' requires a value\n"
     ]
    }
   ],
   "source": [
    "!git commit -m"
   ]
  },
  {
   "cell_type": "code",
   "execution_count": 9,
   "id": "990f3ff3-1c71-4b8f-a889-8e570d7157b4",
   "metadata": {},
   "outputs": [
    {
     "name": "stdout",
     "output_type": "stream",
     "text": [
      "[main 5e764dc] titanic5\n",
      " Committer: Ferhat HanÃ§er (DoguÅŸ Hospitality Ferhat.hancer Retail) <ferhat.hancer@dogushrg.com>\n",
      "Your name and email address were configured automatically based\n",
      "on your username and hostname. Please check that they are accurate.\n",
      "You can suppress this message by setting them explicitly:\n",
      "\n",
      "    git config --global user.name \"Your Name\"\n",
      "    git config --global user.email you@example.com\n",
      "\n",
      "After doing this, you may fix the identity used for this commit with:\n",
      "\n",
      "    git commit --amend --reset-author\n",
      "\n",
      " 1 file changed, 22 insertions(+), 2 deletions(-)\n"
     ]
    }
   ],
   "source": [
    "!git commit -m \"titanic5\""
   ]
  },
  {
   "cell_type": "code",
   "execution_count": 10,
   "id": "8061a6dd-71ad-486d-bd3c-9409d66533cd",
   "metadata": {},
   "outputs": [
    {
     "name": "stderr",
     "output_type": "stream",
     "text": [
      "To https://github.com/hferhat/DataWorks.git\n",
      "   4f22bb5..5e764dc  main -> main\n"
     ]
    }
   ],
   "source": [
    "!git push"
   ]
  },
  {
   "cell_type": "code",
   "execution_count": null,
   "id": "ef89a6e9-973b-4e61-bde4-d72c1ec5f1be",
   "metadata": {},
   "outputs": [],
   "source": []
  }
 ],
 "metadata": {
  "kernelspec": {
   "display_name": "Python 3 (ipykernel)",
   "language": "python",
   "name": "python3"
  },
  "language_info": {
   "codemirror_mode": {
    "name": "ipython",
    "version": 3
   },
   "file_extension": ".py",
   "mimetype": "text/x-python",
   "name": "python",
   "nbconvert_exporter": "python",
   "pygments_lexer": "ipython3",
   "version": "3.11.7"
  }
 },
 "nbformat": 4,
 "nbformat_minor": 5
}
